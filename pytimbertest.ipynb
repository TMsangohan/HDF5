{
 "metadata": {
  "name": ""
 },
 "nbformat": 3,
 "nbformat_minor": 0,
 "worksheets": [
  {
   "cells": [
    {
     "cell_type": "heading",
     "level": 1,
     "metadata": {},
     "source": [
      "Testing of pytimber and pagestore"
     ]
    },
    {
     "cell_type": "heading",
     "level": 2,
     "metadata": {},
     "source": [
      "Loading packages"
     ]
    },
    {
     "cell_type": "code",
     "collapsed": false,
     "input": [
      "import pytimber\n",
      "import pagestore\n",
      "import pandas as pd\n",
      "import numpy as np"
     ],
     "language": "python",
     "metadata": {},
     "outputs": [],
     "prompt_number": 2
    },
    {
     "cell_type": "heading",
     "level": 2,
     "metadata": {},
     "source": [
      "Pytimber testing"
     ]
    },
    {
     "cell_type": "heading",
     "level": 3,
     "metadata": {},
     "source": [
      "Creating database"
     ]
    },
    {
     "cell_type": "code",
     "collapsed": false,
     "input": [
      "db = pytimber.LoggingDB()"
     ],
     "language": "python",
     "metadata": {},
     "outputs": [],
     "prompt_number": 3
    },
    {
     "cell_type": "heading",
     "level": 3,
     "metadata": {},
     "source": [
      "Looking for variables"
     ]
    },
    {
     "cell_type": "code",
     "collapsed": false,
     "input": [
      "var = db.search('HX%')\n",
      "print var"
     ],
     "language": "python",
     "metadata": {},
     "outputs": [
      {
       "output_type": "stream",
       "stream": "stdout",
       "text": [
        "[u'HX:ACD1', u'HX:ACD2', u'HX:AMODE', u'HX:AMODE_ACCESS', u'HX:AMODE_BMSETUP', u'HX:AMODE_CALIB', u'HX:AMODE_CHECKOUT', u'HX:AMODE_COOLDOWN', u'HX:AMODE_IONPHYS', u'HX:AMODE_MACHTEST', u'HX:AMODE_MD', u'HX:AMODE_NOMODE', u'HX:AMODE_PROTPHYS', u'HX:AMODE_RECOVERY', u'HX:AMODE_SECTDEP', u'HX:AMODE_SHUTDOWN', u'HX:AMODE_TOTPHYS', u'HX:AMODE_WARMUP', u'HX:APK1', u'HX:APK2', u'HX:ARMP-POW', u'HX:BBQ1', u'HX:BBQ2', u'HX:BCTFCAP1', u'HX:BCTFCAP2', u'HX:BETASTAR_IP1', u'HX:BETASTAR_IP2', u'HX:BETASTAR_IP5', u'HX:BETASTAR_IP8', u'HX:BKNI', u'HX:BLMCAP', u'HX:BMODE', u'HX:BMODE_ABORT', u'HX:BMODE_ADJUST', u'HX:BMODE_BEAMDUMP', u'HX:BMODE_CIRCDUMP', u'HX:BMODE_CYCLING', u'HX:BMODE_FLATTOP', u'HX:BMODE_INJDUMP', u'HX:BMODE_INJPHYS', u'HX:BMODE_INJPROT', u'HX:BMODE_INJSTUP', u'HX:BMODE_NOBEAM', u'HX:BMODE_NOMODE', u'HX:BMODE_PRERAMP', u'HX:BMODE_RAMP', u'HX:BMODE_RAMPDOWN', u'HX:BMODE_RECOVERY', u'HX:BMODE_SETUP', u'HX:BMODE_SQUEEZE', u'HX:BMODE_STABLE', u'HX:BMODE_UNSTABLE', u'HX:BMODE_WBDUMP', u'HX:BPMCAP1', u'HX:BPMCAP2', u'HX:BPNM', u'HX:BQHT', u'HX:BSTRCAP1', u'HX:BSTRCAP2', u'HX:BTC1', u'HX:BTC2', u'HX:BTNI', u'HX:BWSFLY', u'HX:C1BIN', u'HX:C1BNCH', u'HX:C1BSP', u'HX:C1PTY', u'HX:C2BIN', u'HX:C2BNCH', u'HX:C2BSP', u'HX:C2PTY', u'HX:COLLST', u'HX:COLLSTOP', u'HX:COMMIT', u'HX:DISPM1', u'HX:DISPM2', u'HX:DUMP1', u'HX:DUMP2', u'HX:DUMPED1', u'HX:DUMPED2', u'HX:ENBPM1', u'HX:ENBPM2', u'HX:ENG', u'HX:FBOREF', u'HX:FBQREF', u'HX:FBSTART', u'HX:FIDEL_END_FLATTOP', u'HX:FIDEL_START_FLATTOP', u'HX:FIDEL_START_PREINJ', u'HX:FILLN', u'HX:INT1', u'HX:INT2', u'HX:MASTER', u'HX:NIBIN', u'HX:NIBNCH', u'HX:NIBSP', u'HX:NIPTY', u'HX:OMODE_BEAMOP', u'HX:OMODE_SECTOR12', u'HX:OMODE_SECTOR23', u'HX:OMODE_SECTOR34', u'HX:OMODE_SECTOR45', u'HX:OMODE_SECTOR56', u'HX:OMODE_SECTOR67', u'HX:OMODE_SECTOR78', u'HX:OMODE_SECTOR81', u'HX:OPTID', u'HX:PM1', u'HX:PM2', u'HX:PP60A', u'HX:QK1', u'HX:QK2', u'HX:RNGI', u'HX:ROLLBACK', u'HX:RPLS', u'HX:SBETSRMP', u'HX:SIS_START_COLLISIONS', u'HX:SIS_START_RAMP', u'HX:SIS_START_RAMPDOWN', u'HX:SIS_START_SQUEEZE', u'HX:SMP1_MOVEABLE', u'HX:SMP1_PRESENT', u'HX:SMP1_SAFE', u'HX:SMP1_STABLE', u'HX:SMP2_MOVEABLE', u'HX:SMP2_PRESENT', u'HX:SMP2_SAFE', u'HX:SMP2_STABLE', u'HX:SPCON', u'HX:SRMP-POW', u'HX:START-TBL', u'HX:SYNC-RF', u'HX:USER']\n"
       ]
      }
     ],
     "prompt_number": 50
    },
    {
     "cell_type": "code",
     "collapsed": false,
     "input": [
      "var2 = db.search('%BSRT.5R4%SIGMA%')\n",
      "print var2"
     ],
     "language": "python",
     "metadata": {},
     "outputs": [
      {
       "output_type": "stream",
       "stream": "stdout",
       "text": [
        "[u'LHC.BSRT.5R4.B1:FIT_SIGMA_H', u'LHC.BSRT.5R4.B1:FIT_SIGMA_V']\n"
       ]
      }
     ],
     "prompt_number": 56
    },
    {
     "cell_type": "heading",
     "level": 3,
     "metadata": {},
     "source": [
      "downloading and looking at output"
     ]
    },
    {
     "cell_type": "code",
     "collapsed": false,
     "input": [
      "# very interesting variable to find fills in a time window\n",
      "t1 = '2015-12-01 00:00:00.000'\n",
      "t2 = '2015-12-15 00:00:00.000'\n",
      "d = db.get('HX:FILLN',t1,t2)\n",
      "print d"
     ],
     "language": "python",
     "metadata": {},
     "outputs": [
      {
       "output_type": "stream",
       "stream": "stdout",
       "text": [
        "{u'HX:FILLN': (array([  1.44893760e+09,   1.44899895e+09,   1.44900946e+09,\n",
        "         1.44901094e+09,   1.44901951e+09,   1.44904776e+09,\n",
        "         1.44907745e+09,   1.44908628e+09,   1.44911348e+09,\n",
        "         1.44916656e+09,   1.44921145e+09,   1.44926107e+09,\n",
        "         1.44929952e+09,   1.44931521e+09,   1.44932409e+09,\n",
        "         1.44936313e+09,   1.44940558e+09,   1.44944021e+09,\n",
        "         1.44945480e+09,   1.44948718e+09,   1.44951220e+09,\n",
        "         1.44952620e+09,   1.44953721e+09,   1.44954226e+09,\n",
        "         1.44954612e+09,   1.44956216e+09,   1.44958971e+09,\n",
        "         1.44960598e+09,   1.44963855e+09,   1.44967189e+09,\n",
        "         1.44970470e+09,   1.44973942e+09,   1.44977066e+09,\n",
        "         1.44978323e+09,   1.44982130e+09,   1.44985784e+09,\n",
        "         1.44986654e+09,   1.44991261e+09,   1.44992743e+09,\n",
        "         1.44995836e+09,   1.45000928e+09,   1.45001703e+09,\n",
        "         1.45003254e+09,   1.45004181e+09]), array([ 4681.,  4682.,  4683.,  4684.,  4685.,  4686.,  4687.,  4688.,\n",
        "        4689.,  4690.,  4691.,  4692.,  4693.,  4694.,  4695.,  4696.,\n",
        "        4697.,  4698.,  4699.,  4700.,  4701.,  4702.,  4703.,  4704.,\n",
        "        4705.,  4706.,  4707.,  4708.,  4709.,  4710.,  4711.,  4712.,\n",
        "        4713.,  4714.,  4715.,  4716.,  4717.,  4718.,  4719.,  4720.,\n",
        "        4721.,  4722.,  4723.,  4724.]))}\n"
       ]
      }
     ],
     "prompt_number": 6
    },
    {
     "cell_type": "code",
     "collapsed": false,
     "input": [
      "t1 = '2015-12-01 00:00:00.000'\n",
      "t2 = '2015-12-15 00:00:00.000'\n",
      "d2 = db.get('HX:INT1',t1,t2)\n",
      "print d2"
     ],
     "language": "python",
     "metadata": {},
     "outputs": [
      {
       "output_type": "stream",
       "stream": "stdout",
       "text": [
        "{u'HX:INT1': (array([  1.44892440e+09,   1.44892440e+09,   1.44892440e+09, ...,\n",
        "         1.45013400e+09,   1.45013400e+09,   1.45013400e+09]), array([ 497.,  497.,  497., ...,    0.,    0.,    0.]))}\n"
       ]
      }
     ],
     "prompt_number": 9
    },
    {
     "cell_type": "code",
     "collapsed": false,
     "input": [
      "print var2"
     ],
     "language": "python",
     "metadata": {},
     "outputs": [
      {
       "output_type": "stream",
       "stream": "stdout",
       "text": [
        "[u'LHC.BSRT.5R4.B1:FIT_SIGMA_H', u'LHC.BSRT.5R4.B1:FIT_SIGMA_V']\n"
       ]
      }
     ],
     "prompt_number": 80
    },
    {
     "cell_type": "code",
     "collapsed": false,
     "input": [
      "# trying BSRT data - can we get a large dataset?\n",
      "t1 = '2015-12-11 00:00:00.000'\n",
      "t2 = '2015-12-11 06:00:00.000'\n",
      "bsrtdat = db.get(var2,t1,t2)"
     ],
     "language": "python",
     "metadata": {},
     "outputs": [],
     "prompt_number": 81
    },
    {
     "cell_type": "code",
     "collapsed": false,
     "input": [
      "t,data = bsrtdat.values()[0]\n",
      "data2 =list(data)"
     ],
     "language": "python",
     "metadata": {},
     "outputs": [],
     "prompt_number": 88
    },
    {
     "cell_type": "code",
     "collapsed": false,
     "input": [
      "len(data2[-1])"
     ],
     "language": "python",
     "metadata": {},
     "outputs": [
      {
       "metadata": {},
       "output_type": "pyout",
       "prompt_number": 103,
       "text": [
        "25"
       ]
      }
     ],
     "prompt_number": 103
    },
    {
     "cell_type": "code",
     "collapsed": false,
     "input": [
      "len(data2)"
     ],
     "language": "python",
     "metadata": {},
     "outputs": [
      {
       "metadata": {},
       "output_type": "pyout",
       "prompt_number": 104,
       "text": [
        "17686"
       ]
      }
     ],
     "prompt_number": 104
    },
    {
     "cell_type": "code",
     "collapsed": false,
     "input": [
      "logging."
     ],
     "language": "python",
     "metadata": {},
     "outputs": []
    },
    {
     "cell_type": "code",
     "collapsed": false,
     "input": [
      "from matplotlib import pyplot as plt\n",
      "plt.hist(d2.values()[-1][1],bins=500)\n",
      "plt.show()"
     ],
     "language": "python",
     "metadata": {},
     "outputs": [],
     "prompt_number": 26
    },
    {
     "cell_type": "code",
     "collapsed": false,
     "input": [
      "import numpy as np\n",
      "np.min(d2.values()[-1][1])"
     ],
     "language": "python",
     "metadata": {},
     "outputs": [
      {
       "metadata": {},
       "output_type": "pyout",
       "prompt_number": 21,
       "text": [
        "0.0"
       ]
      }
     ],
     "prompt_number": 21
    },
    {
     "cell_type": "code",
     "collapsed": false,
     "input": [
      "import logging"
     ],
     "language": "python",
     "metadata": {},
     "outputs": [],
     "prompt_number": 27
    },
    {
     "cell_type": "code",
     "collapsed": false,
     "input": [
      "mydb = pagestore.PageStore('testdata','./pagedata')"
     ],
     "language": "python",
     "metadata": {},
     "outputs": [],
     "prompt_number": 30
    },
    {
     "cell_type": "code",
     "collapsed": false,
     "input": [
      "mydb.store(d2)"
     ],
     "language": "python",
     "metadata": {},
     "outputs": [],
     "prompt_number": 31
    },
    {
     "cell_type": "code",
     "collapsed": false,
     "input": [
      "dat = mydb.get('HX:INT1')"
     ],
     "language": "python",
     "metadata": {},
     "outputs": [],
     "prompt_number": 32
    },
    {
     "cell_type": "code",
     "collapsed": false,
     "input": [
      "import pandas as pd"
     ],
     "language": "python",
     "metadata": {},
     "outputs": [],
     "prompt_number": 34
    },
    {
     "cell_type": "code",
     "collapsed": false,
     "input": [
      "dat"
     ],
     "language": "python",
     "metadata": {},
     "outputs": [
      {
       "metadata": {},
       "output_type": "pyout",
       "prompt_number": 35,
       "text": [
        "{u'HX:INT1': (array([  1.44892440e+09,   1.44892440e+09,   1.44892440e+09, ...,\n",
        "         1.45013400e+09,   1.45013400e+09,   1.45013400e+09]),\n",
        "  array([ 497.,  497.,  497., ...,    0.,    0.,    0.]))}"
       ]
      }
     ],
     "prompt_number": 35
    },
    {
     "cell_type": "code",
     "collapsed": false,
     "input": [
      "df = pd.DataFrame.from_dict(dat)"
     ],
     "language": "python",
     "metadata": {},
     "outputs": [],
     "prompt_number": 36
    },
    {
     "cell_type": "code",
     "collapsed": false,
     "input": [
      "df"
     ],
     "language": "python",
     "metadata": {},
     "outputs": [
      {
       "html": [
        "<div style=\"max-height:1000px;max-width:1500px;overflow:auto;\">\n",
        "<table border=\"1\" class=\"dataframe\">\n",
        "  <thead>\n",
        "    <tr style=\"text-align: right;\">\n",
        "      <th></th>\n",
        "      <th>HX:INT1</th>\n",
        "    </tr>\n",
        "  </thead>\n",
        "  <tbody>\n",
        "    <tr>\n",
        "      <th>0</th>\n",
        "      <td> [1448924400.21, 1448924401.21, 1448924402.21, ...</td>\n",
        "    </tr>\n",
        "    <tr>\n",
        "      <th>1</th>\n",
        "      <td> [497.0, 497.0, 497.0, 497.0, 496.0, 497.0, 496...</td>\n",
        "    </tr>\n",
        "  </tbody>\n",
        "</table>\n",
        "<p>2 rows \u00d7 1 columns</p>\n",
        "</div>"
       ],
       "metadata": {},
       "output_type": "pyout",
       "prompt_number": 37,
       "text": [
        "                                             HX:INT1\n",
        "0  [1448924400.21, 1448924401.21, 1448924402.21, ...\n",
        "1  [497.0, 497.0, 497.0, 497.0, 496.0, 497.0, 496...\n",
        "\n",
        "[2 rows x 1 columns]"
       ]
      }
     ],
     "prompt_number": 37
    },
    {
     "cell_type": "code",
     "collapsed": false,
     "input": [
      "dat.keys()"
     ],
     "language": "python",
     "metadata": {},
     "outputs": [
      {
       "metadata": {},
       "output_type": "pyout",
       "prompt_number": 38,
       "text": [
        "[u'HX:INT1']"
       ]
      }
     ],
     "prompt_number": 38
    },
    {
     "cell_type": "code",
     "collapsed": false,
     "input": [
      "type(dat['HX:INT1'])"
     ],
     "language": "python",
     "metadata": {},
     "outputs": [
      {
       "metadata": {},
       "output_type": "pyout",
       "prompt_number": 41,
       "text": [
        "tuple"
       ]
      }
     ],
     "prompt_number": 41
    },
    {
     "cell_type": "code",
     "collapsed": false,
     "input": [
      "dfrec = pd.DataFrame.from_records(data2)"
     ],
     "language": "python",
     "metadata": {},
     "outputs": [],
     "prompt_number": 98
    },
    {
     "cell_type": "code",
     "collapsed": false,
     "input": [
      "len(dat.values())"
     ],
     "language": "python",
     "metadata": {},
     "outputs": [
      {
       "metadata": {},
       "output_type": "pyout",
       "prompt_number": 44,
       "text": [
        "1"
       ]
      }
     ],
     "prompt_number": 44
    },
    {
     "cell_type": "code",
     "collapsed": false,
     "input": [
      "%matplotlib inline\n",
      "dfrec[0].hist(bins=100)\n",
      "dfrec[1].hist(bins=100)\n",
      "plt.show()"
     ],
     "language": "python",
     "metadata": {},
     "outputs": [
      {
       "metadata": {},
       "output_type": "display_data",
       "png": "[encoded data removed]",
       "text": [
        "<matplotlib.figure.Figure at 0x7f2349251ad0>"
       ]
      }
     ],
     "prompt_number": 116
    },
    {
     "cell_type": "code",
     "collapsed": false,
     "input": [
      "?plt.contour"
     ],
     "language": "python",
     "metadata": {},
     "outputs": [],
     "prompt_number": 110
    },
    {
     "cell_type": "code",
     "collapsed": false,
     "input": [],
     "language": "python",
     "metadata": {},
     "outputs": []
    }
   ],
   "metadata": {}
  }
 ]
}